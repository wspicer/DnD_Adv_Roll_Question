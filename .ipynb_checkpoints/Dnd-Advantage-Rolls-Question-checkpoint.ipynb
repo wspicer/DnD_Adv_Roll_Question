{
 "cells": [
  {
   "cell_type": "code",
   "execution_count": 25,
   "metadata": {},
   "outputs": [],
   "source": [
    "import pandas as pd\n",
    "import numpy as np\n",
    "import random"
   ]
  },
  {
   "cell_type": "code",
   "execution_count": 26,
   "metadata": {},
   "outputs": [],
   "source": [
    "#defines a 1d20 roll\n",
    "def roll_dice():\n",
    "    roll = random.randint(1,20)\n",
    "    return(roll)"
   ]
  },
  {
   "cell_type": "code",
   "execution_count": 27,
   "metadata": {},
   "outputs": [],
   "source": [
    "#defines rolling two sets of two dice per attempt\n",
    "def rollTwoPairs():\n",
    "    rollAdvDis1 = [random.randint(1,20),random.randint(1,20)]\n",
    "    rollAdvDis2 = [random.randint(1,20),random.randint(1,20)]\n",
    "    rollAdvDisTotal = [rollAdvDis1,rollAdvDis2]\n",
    "    return(rollAdvDisTotal)"
   ]
  },
  {
   "cell_type": "code",
   "execution_count": 28,
   "metadata": {},
   "outputs": [],
   "source": [
    "#defines rolling two sets of two dice per attempt\n",
    "def rollOnePair():\n",
    "    rollpair = [random.randint(1,20),random.randint(1,20)]\n",
    "    return(rollpair)"
   ]
  },
  {
   "cell_type": "code",
   "execution_count": 29,
   "metadata": {},
   "outputs": [],
   "source": [
    "# Normal 1d20 rolled 1,000,000 times\n",
    "normal = []\n",
    "for x in range(1000000):\n",
    "    normal.append(roll_dice())\n",
    "        "
   ]
  },
  {
   "cell_type": "code",
   "execution_count": 30,
   "metadata": {},
   "outputs": [],
   "source": [
    "#average of those 1,000,000 normal rolls\n",
    "normal_average = sum(normal)/len(normal)"
   ]
  },
  {
   "cell_type": "code",
   "execution_count": 31,
   "metadata": {},
   "outputs": [],
   "source": [
    "#Create list of results for 1,000,000 rolls giving 2 rolls of 2 dice. \n",
    "tworolls = []\n",
    "for x in range(1000000):\n",
    "    tworolls.append(rollTwoPairs())"
   ]
  },
  {
   "cell_type": "code",
   "execution_count": 32,
   "metadata": {},
   "outputs": [],
   "source": [
    "oneroll = []\n",
    "for x in range(1000000):\n",
    "    oneroll.append(rollOnePair())"
   ]
  },
  {
   "cell_type": "code",
   "execution_count": 33,
   "metadata": {},
   "outputs": [],
   "source": [
    "#We now take the lowest roll of each pair in the first roll set (so the disadvantage from the first pair of rolls)\n",
    "advofdisresult1 = []\n",
    "i = 0\n",
    "for x in tworolls:\n",
    "    if tworolls[i][0][0] <= tworolls[i][0][1]:\n",
    "        advofdisresult1.append(tworolls[i][0][0])\n",
    "    else:\n",
    "        advofdisresult1.append(tworolls[i][0][1])\n",
    "    i += 1\n"
   ]
  },
  {
   "cell_type": "code",
   "execution_count": 34,
   "metadata": {},
   "outputs": [],
   "source": [
    "#We now take the lowest roll of each pair in the second roll set (so the disadvantage from the second rolls)\n",
    "advofdisresult2 = []\n",
    "i = 0\n",
    "for x in tworolls:\n",
    "    if tworolls[i][1][0] <= tworolls[i][1][1]:\n",
    "        advofdisresult2.append(tworolls[i][1][0])\n",
    "    else:\n",
    "        advofdisresult2.append(tworolls[i][1][1])\n",
    "    i += 1"
   ]
  },
  {
   "cell_type": "code",
   "execution_count": 35,
   "metadata": {},
   "outputs": [],
   "source": [
    "#Now we compare the disadvantage roll each pair from before and see which one is highest (this is the advantage of disadvantage)\n",
    "advofdisfinal = []\n",
    "i = 0\n",
    "for x in advofdisresult1:\n",
    "    if advofdisresult1[i] >= advofdisresult2[i]:\n",
    "        advofdisfinal.append(advofdisresult1[i])\n",
    "    else:\n",
    "        advofdisfinal.append(advofdisresult2[i])\n",
    "    i += 1"
   ]
  },
  {
   "cell_type": "code",
   "execution_count": 36,
   "metadata": {
    "scrolled": true
   },
   "outputs": [],
   "source": [
    "adv_of_dis_average = sum(advofdisfinal) / len(advofdisfinal)"
   ]
  },
  {
   "cell_type": "code",
   "execution_count": 37,
   "metadata": {},
   "outputs": [],
   "source": [
    "#We now take the highest roll of each pair in the first roll set (so the advantage from the first pair of rolls)\n",
    "disofadvresult1 = []\n",
    "i = 0\n",
    "for x in tworolls:\n",
    "    if tworolls[i][0][0] >= tworolls[i][0][1]:\n",
    "        disofadvresult1.append(tworolls[i][0][0])\n",
    "    else:\n",
    "        disofadvresult1.append(tworolls[i][0][1])\n",
    "    i += 1\n"
   ]
  },
  {
   "cell_type": "code",
   "execution_count": 38,
   "metadata": {},
   "outputs": [],
   "source": [
    "#We now take the lowest roll of each pair in the second roll set (so the disadvantage from the second rolls)\n",
    "disofadvresult2 = []\n",
    "i = 0\n",
    "for x in tworolls:\n",
    "    if tworolls[i][1][0] >= tworolls[i][1][1]:\n",
    "        disofadvresult2.append(tworolls[i][1][0])\n",
    "    else:\n",
    "        disofadvresult2.append(tworolls[i][1][1])\n",
    "    i += 1"
   ]
  },
  {
   "cell_type": "code",
   "execution_count": 39,
   "metadata": {},
   "outputs": [],
   "source": [
    "#Now we compare the advantage roll each pair from before and see which one is lowest (this is the disadvantage of advantage)\n",
    "disofadvfinal = []\n",
    "i = 0\n",
    "for x in advofdisresult1:\n",
    "    if disofadvresult1[i] <= disofadvresult2[i]:\n",
    "        disofadvfinal.append(advofdisresult1[i])\n",
    "    else:\n",
    "        disofadvfinal.append(advofdisresult2[i])\n",
    "    i += 1"
   ]
  },
  {
   "cell_type": "code",
   "execution_count": 40,
   "metadata": {},
   "outputs": [],
   "source": [
    "dis_of_adv_average = sum(disofadvfinal)/len(disofadvfinal)"
   ]
  },
  {
   "cell_type": "code",
   "execution_count": 41,
   "metadata": {},
   "outputs": [],
   "source": [
    "advSingle = []\n",
    "i = 0\n",
    "for x in oneroll:\n",
    "    if oneroll[i][0] >= oneroll[i][1]:\n",
    "        advSingle.append(oneroll[i][0])\n",
    "    else:\n",
    "        advSingle.append(oneroll[i][1])\n",
    "    i += 1\n",
    "    "
   ]
  },
  {
   "cell_type": "code",
   "execution_count": 42,
   "metadata": {},
   "outputs": [],
   "source": [
    "adv_average = sum(advSingle)/len(advSingle)"
   ]
  },
  {
   "cell_type": "code",
   "execution_count": 43,
   "metadata": {},
   "outputs": [],
   "source": [
    "disSingle = []\n",
    "i = 0\n",
    "for x in oneroll:\n",
    "    if oneroll[i][0] <= oneroll[i][1]:\n",
    "        disSingle.append(oneroll[i][0])\n",
    "    else:\n",
    "        disSingle.append(oneroll[i][1])\n",
    "    i += 1"
   ]
  },
  {
   "cell_type": "code",
   "execution_count": 44,
   "metadata": {},
   "outputs": [],
   "source": [
    "dis_average = sum(disSingle)/len(disSingle)"
   ]
  },
  {
   "cell_type": "code",
   "execution_count": 49,
   "metadata": {},
   "outputs": [
    {
     "name": "stdout",
     "output_type": "stream",
     "text": [
      "I am using 'actual rolls' to calculate the averages. I know this can be faster.\n",
      "\n",
      "Average of a normal 1d20 is 10.497175\n",
      "Average of an advantage roll is 13.825898\n",
      "Average of a disadvantage roll is 7.172976\n",
      "Average of an Advatage of Disadavantage roll is 9.835218\n",
      "Average of a Disadvantage of Advantage roll is 5.853722\n"
     ]
    }
   ],
   "source": [
    "print(\"I am using 'actual rolls' to calculate the averages. I know this can be faster.\\n\")\n",
    "\n",
    "print(f'Average of a normal 1d20 is {normal_average}\\nAverage of an advantage roll is {adv_average}\\nAverage of a disadvantage roll is {dis_average}\\nAverage of an Advatage of Disadavantage roll is {adv_of_dis_average}\\nAverage of a Disadvantage of Advantage roll is {dis_of_adv_average}')"
   ]
  },
  {
   "cell_type": "code",
   "execution_count": null,
   "metadata": {},
   "outputs": [],
   "source": []
  },
  {
   "cell_type": "code",
   "execution_count": null,
   "metadata": {},
   "outputs": [],
   "source": []
  }
 ],
 "metadata": {
  "kernelspec": {
   "display_name": "Python 3 (ipykernel)",
   "language": "python",
   "name": "python3"
  },
  "language_info": {
   "codemirror_mode": {
    "name": "ipython",
    "version": 3
   },
   "file_extension": ".py",
   "mimetype": "text/x-python",
   "name": "python",
   "nbconvert_exporter": "python",
   "pygments_lexer": "ipython3",
   "version": "3.11.5"
  }
 },
 "nbformat": 4,
 "nbformat_minor": 4
}
